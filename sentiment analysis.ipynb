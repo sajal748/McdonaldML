{
 "cells": [
  {
   "cell_type": "code",
   "execution_count": 1,
   "id": "60059a69",
   "metadata": {},
   "outputs": [],
   "source": [
    "import numpy as np \n",
    "import pandas as pd\n",
    "import matplotlib.pyplot as plt\n",
    "import seaborn as sns"
   ]
  },
  {
   "cell_type": "code",
   "execution_count": 2,
   "id": "21f6f887",
   "metadata": {},
   "outputs": [],
   "source": [
    "import warnings\n",
    "warnings.filterwarnings(\"ignore\")"
   ]
  },
  {
   "cell_type": "code",
   "execution_count": 14,
   "id": "cb140694",
   "metadata": {},
   "outputs": [],
   "source": [
    "import pandas as pd\n",
    "import nltk\n",
    "from nltk.sentiment import SentimentIntensityAnalyzer"
   ]
  },
  {
   "cell_type": "code",
   "execution_count": 15,
   "id": "1a9bdadd",
   "metadata": {},
   "outputs": [],
   "source": [
    "from sklearn.model_selection import train_test_split\n",
    "from sklearn.feature_extraction.text import TfidfVectorizer\n",
    "from sklearn.naive_bayes import MultinomialNB\n",
    "from sklearn.metrics import accuracy_score, classification_report\n"
   ]
  },
  {
   "cell_type": "code",
   "execution_count": 16,
   "id": "052b40c1",
   "metadata": {},
   "outputs": [],
   "source": [
    "mcd=pd.read_csv(\"C:/Users/Admin/Desktop/Mc Donald/McDonaldReviews.csv\",  encoding=\"latin-1\")"
   ]
  },
  {
   "cell_type": "code",
   "execution_count": 17,
   "id": "8b1a5a55",
   "metadata": {},
   "outputs": [
    {
     "name": "stdout",
     "output_type": "stream",
     "text": [
      "       reviewer_id  store_name              category  \\\n",
      "0                1  McDonald's  Fast food restaurant   \n",
      "1                2  McDonald's  Fast food restaurant   \n",
      "2                3  McDonald's  Fast food restaurant   \n",
      "3                4  McDonald's  Fast food restaurant   \n",
      "4                5  McDonald's  Fast food restaurant   \n",
      "...            ...         ...                   ...   \n",
      "33391        33392  McDonald's  Fast food restaurant   \n",
      "33392        33393  McDonald's  Fast food restaurant   \n",
      "33393        33394  McDonald's  Fast food restaurant   \n",
      "33394        33395  McDonald's  Fast food restaurant   \n",
      "33395        33396  McDonald's  Fast food restaurant   \n",
      "\n",
      "                                           store_address  latitude   \\\n",
      "0      13749 US-183 Hwy, Austin, TX 78750, United States  30.460718   \n",
      "1      13749 US-183 Hwy, Austin, TX 78750, United States  30.460718   \n",
      "2      13749 US-183 Hwy, Austin, TX 78750, United States  30.460718   \n",
      "3      13749 US-183 Hwy, Austin, TX 78750, United States  30.460718   \n",
      "4      13749 US-183 Hwy, Austin, TX 78750, United States  30.460718   \n",
      "...                                                  ...        ...   \n",
      "33391  3501 Biscayne Blvd, Miami, FL 33137, United St...  25.810000   \n",
      "33392  3501 Biscayne Blvd, Miami, FL 33137, United St...  25.810000   \n",
      "33393  3501 Biscayne Blvd, Miami, FL 33137, United St...  25.810000   \n",
      "33394  3501 Biscayne Blvd, Miami, FL 33137, United St...  25.810000   \n",
      "33395  3501 Biscayne Blvd, Miami, FL 33137, United St...  25.810000   \n",
      "\n",
      "       longitude rating_count   review_time  \\\n",
      "0     -97.792874        1,240  3 months ago   \n",
      "1     -97.792874        1,240    5 days ago   \n",
      "2     -97.792874        1,240    5 days ago   \n",
      "3     -97.792874        1,240   a month ago   \n",
      "4     -97.792874        1,240  2 months ago   \n",
      "...          ...          ...           ...   \n",
      "33391 -80.189098        2,810   4 years ago   \n",
      "33392 -80.189098        2,810    a year ago   \n",
      "33393 -80.189098        2,810    a year ago   \n",
      "33394 -80.189098        2,810   5 years ago   \n",
      "33395 -80.189098        2,810   2 years ago   \n",
      "\n",
      "                                                  review   rating  \n",
      "0      Why does it look like someone spit on my food?...   1 star  \n",
      "1      It'd McDonalds. It is what it is as far as the...  4 stars  \n",
      "2      Made a mobile order got to the speaker and che...   1 star  \n",
      "3      My mc. Crispy chicken sandwich was ï¿½ï¿½ï¿½ï¿...  5 stars  \n",
      "4      I repeat my order 3 times in the drive thru, a...   1 star  \n",
      "...                                                  ...      ...  \n",
      "33391                        They treated me very badly.   1 star  \n",
      "33392                           The service is very good  5 stars  \n",
      "33393                         To remove hunger is enough  4 stars  \n",
      "33394  It's good, but lately it has become very expen...  5 stars  \n",
      "33395                          they took good care of me  5 stars  \n",
      "\n",
      "[33396 rows x 10 columns]\n"
     ]
    }
   ],
   "source": [
    "print(mcd)"
   ]
  },
  {
   "cell_type": "code",
   "execution_count": 9,
   "id": "5fe3a178",
   "metadata": {},
   "outputs": [
    {
     "data": {
      "text/plain": [
       "Index(['reviewer_id', 'store_name', 'category', 'store_address', 'latitude ',\n",
       "       'longitude', 'rating_count', 'review_time', 'review', 'rating'],\n",
       "      dtype='object')"
      ]
     },
     "execution_count": 9,
     "metadata": {},
     "output_type": "execute_result"
    }
   ],
   "source": [
    "mcd.columns\n"
   ]
  },
  {
   "cell_type": "code",
   "execution_count": 10,
   "id": "4f3d465b",
   "metadata": {},
   "outputs": [
    {
     "data": {
      "text/html": [
       "<div>\n",
       "<style scoped>\n",
       "    .dataframe tbody tr th:only-of-type {\n",
       "        vertical-align: middle;\n",
       "    }\n",
       "\n",
       "    .dataframe tbody tr th {\n",
       "        vertical-align: top;\n",
       "    }\n",
       "\n",
       "    .dataframe thead th {\n",
       "        text-align: right;\n",
       "    }\n",
       "</style>\n",
       "<table border=\"1\" class=\"dataframe\">\n",
       "  <thead>\n",
       "    <tr style=\"text-align: right;\">\n",
       "      <th></th>\n",
       "      <th>reviewer_id</th>\n",
       "      <th>store_name</th>\n",
       "      <th>category</th>\n",
       "      <th>store_address</th>\n",
       "      <th>latitude</th>\n",
       "      <th>longitude</th>\n",
       "      <th>rating_count</th>\n",
       "      <th>review_time</th>\n",
       "      <th>review</th>\n",
       "      <th>rating</th>\n",
       "    </tr>\n",
       "  </thead>\n",
       "  <tbody>\n",
       "    <tr>\n",
       "      <th>0</th>\n",
       "      <td>1</td>\n",
       "      <td>McDonald's</td>\n",
       "      <td>Fast food restaurant</td>\n",
       "      <td>13749 US-183 Hwy, Austin, TX 78750, United States</td>\n",
       "      <td>30.460718</td>\n",
       "      <td>-97.792874</td>\n",
       "      <td>1,240</td>\n",
       "      <td>3 months ago</td>\n",
       "      <td>Why does it look like someone spit on my food?...</td>\n",
       "      <td>1 star</td>\n",
       "    </tr>\n",
       "    <tr>\n",
       "      <th>1</th>\n",
       "      <td>2</td>\n",
       "      <td>McDonald's</td>\n",
       "      <td>Fast food restaurant</td>\n",
       "      <td>13749 US-183 Hwy, Austin, TX 78750, United States</td>\n",
       "      <td>30.460718</td>\n",
       "      <td>-97.792874</td>\n",
       "      <td>1,240</td>\n",
       "      <td>5 days ago</td>\n",
       "      <td>It'd McDonalds. It is what it is as far as the...</td>\n",
       "      <td>4 stars</td>\n",
       "    </tr>\n",
       "    <tr>\n",
       "      <th>2</th>\n",
       "      <td>3</td>\n",
       "      <td>McDonald's</td>\n",
       "      <td>Fast food restaurant</td>\n",
       "      <td>13749 US-183 Hwy, Austin, TX 78750, United States</td>\n",
       "      <td>30.460718</td>\n",
       "      <td>-97.792874</td>\n",
       "      <td>1,240</td>\n",
       "      <td>5 days ago</td>\n",
       "      <td>Made a mobile order got to the speaker and che...</td>\n",
       "      <td>1 star</td>\n",
       "    </tr>\n",
       "    <tr>\n",
       "      <th>3</th>\n",
       "      <td>4</td>\n",
       "      <td>McDonald's</td>\n",
       "      <td>Fast food restaurant</td>\n",
       "      <td>13749 US-183 Hwy, Austin, TX 78750, United States</td>\n",
       "      <td>30.460718</td>\n",
       "      <td>-97.792874</td>\n",
       "      <td>1,240</td>\n",
       "      <td>a month ago</td>\n",
       "      <td>My mc. Crispy chicken sandwich was ï¿½ï¿½ï¿½ï¿...</td>\n",
       "      <td>5 stars</td>\n",
       "    </tr>\n",
       "    <tr>\n",
       "      <th>4</th>\n",
       "      <td>5</td>\n",
       "      <td>McDonald's</td>\n",
       "      <td>Fast food restaurant</td>\n",
       "      <td>13749 US-183 Hwy, Austin, TX 78750, United States</td>\n",
       "      <td>30.460718</td>\n",
       "      <td>-97.792874</td>\n",
       "      <td>1,240</td>\n",
       "      <td>2 months ago</td>\n",
       "      <td>I repeat my order 3 times in the drive thru, a...</td>\n",
       "      <td>1 star</td>\n",
       "    </tr>\n",
       "    <tr>\n",
       "      <th>5</th>\n",
       "      <td>6</td>\n",
       "      <td>McDonald's</td>\n",
       "      <td>Fast food restaurant</td>\n",
       "      <td>13749 US-183 Hwy, Austin, TX 78750, United States</td>\n",
       "      <td>30.460718</td>\n",
       "      <td>-97.792874</td>\n",
       "      <td>1,240</td>\n",
       "      <td>3 weeks ago</td>\n",
       "      <td>I work for door dash and they locked us all ou...</td>\n",
       "      <td>1 star</td>\n",
       "    </tr>\n",
       "    <tr>\n",
       "      <th>6</th>\n",
       "      <td>7</td>\n",
       "      <td>McDonald's</td>\n",
       "      <td>Fast food restaurant</td>\n",
       "      <td>13749 US-183 Hwy, Austin, TX 78750, United States</td>\n",
       "      <td>30.460718</td>\n",
       "      <td>-97.792874</td>\n",
       "      <td>1,240</td>\n",
       "      <td>3 months ago</td>\n",
       "      <td>If I  could give this location a zero on custo...</td>\n",
       "      <td>1 star</td>\n",
       "    </tr>\n",
       "    <tr>\n",
       "      <th>7</th>\n",
       "      <td>8</td>\n",
       "      <td>McDonald's</td>\n",
       "      <td>Fast food restaurant</td>\n",
       "      <td>13749 US-183 Hwy, Austin, TX 78750, United States</td>\n",
       "      <td>30.460718</td>\n",
       "      <td>-97.792874</td>\n",
       "      <td>1,240</td>\n",
       "      <td>a year ago</td>\n",
       "      <td>Came in and ordered a Large coffee w/no ice. T...</td>\n",
       "      <td>1 star</td>\n",
       "    </tr>\n",
       "    <tr>\n",
       "      <th>8</th>\n",
       "      <td>9</td>\n",
       "      <td>McDonald's</td>\n",
       "      <td>Fast food restaurant</td>\n",
       "      <td>13749 US-183 Hwy, Austin, TX 78750, United States</td>\n",
       "      <td>30.460718</td>\n",
       "      <td>-97.792874</td>\n",
       "      <td>1,240</td>\n",
       "      <td>3 months ago</td>\n",
       "      <td>Went thru drive thru. Ordered. Getting home no...</td>\n",
       "      <td>1 star</td>\n",
       "    </tr>\n",
       "    <tr>\n",
       "      <th>9</th>\n",
       "      <td>10</td>\n",
       "      <td>McDonald's</td>\n",
       "      <td>Fast food restaurant</td>\n",
       "      <td>13749 US-183 Hwy, Austin, TX 78750, United States</td>\n",
       "      <td>30.460718</td>\n",
       "      <td>-97.792874</td>\n",
       "      <td>1,240</td>\n",
       "      <td>3 months ago</td>\n",
       "      <td>I'm not really a huge fan of fast food, but I ...</td>\n",
       "      <td>4 stars</td>\n",
       "    </tr>\n",
       "  </tbody>\n",
       "</table>\n",
       "</div>"
      ],
      "text/plain": [
       "   reviewer_id  store_name              category  \\\n",
       "0            1  McDonald's  Fast food restaurant   \n",
       "1            2  McDonald's  Fast food restaurant   \n",
       "2            3  McDonald's  Fast food restaurant   \n",
       "3            4  McDonald's  Fast food restaurant   \n",
       "4            5  McDonald's  Fast food restaurant   \n",
       "5            6  McDonald's  Fast food restaurant   \n",
       "6            7  McDonald's  Fast food restaurant   \n",
       "7            8  McDonald's  Fast food restaurant   \n",
       "8            9  McDonald's  Fast food restaurant   \n",
       "9           10  McDonald's  Fast food restaurant   \n",
       "\n",
       "                                       store_address  latitude   longitude  \\\n",
       "0  13749 US-183 Hwy, Austin, TX 78750, United States  30.460718 -97.792874   \n",
       "1  13749 US-183 Hwy, Austin, TX 78750, United States  30.460718 -97.792874   \n",
       "2  13749 US-183 Hwy, Austin, TX 78750, United States  30.460718 -97.792874   \n",
       "3  13749 US-183 Hwy, Austin, TX 78750, United States  30.460718 -97.792874   \n",
       "4  13749 US-183 Hwy, Austin, TX 78750, United States  30.460718 -97.792874   \n",
       "5  13749 US-183 Hwy, Austin, TX 78750, United States  30.460718 -97.792874   \n",
       "6  13749 US-183 Hwy, Austin, TX 78750, United States  30.460718 -97.792874   \n",
       "7  13749 US-183 Hwy, Austin, TX 78750, United States  30.460718 -97.792874   \n",
       "8  13749 US-183 Hwy, Austin, TX 78750, United States  30.460718 -97.792874   \n",
       "9  13749 US-183 Hwy, Austin, TX 78750, United States  30.460718 -97.792874   \n",
       "\n",
       "  rating_count   review_time  \\\n",
       "0        1,240  3 months ago   \n",
       "1        1,240    5 days ago   \n",
       "2        1,240    5 days ago   \n",
       "3        1,240   a month ago   \n",
       "4        1,240  2 months ago   \n",
       "5        1,240   3 weeks ago   \n",
       "6        1,240  3 months ago   \n",
       "7        1,240    a year ago   \n",
       "8        1,240  3 months ago   \n",
       "9        1,240  3 months ago   \n",
       "\n",
       "                                              review   rating  \n",
       "0  Why does it look like someone spit on my food?...   1 star  \n",
       "1  It'd McDonalds. It is what it is as far as the...  4 stars  \n",
       "2  Made a mobile order got to the speaker and che...   1 star  \n",
       "3  My mc. Crispy chicken sandwich was ï¿½ï¿½ï¿½ï¿...  5 stars  \n",
       "4  I repeat my order 3 times in the drive thru, a...   1 star  \n",
       "5  I work for door dash and they locked us all ou...   1 star  \n",
       "6  If I  could give this location a zero on custo...   1 star  \n",
       "7  Came in and ordered a Large coffee w/no ice. T...   1 star  \n",
       "8  Went thru drive thru. Ordered. Getting home no...   1 star  \n",
       "9  I'm not really a huge fan of fast food, but I ...  4 stars  "
      ]
     },
     "execution_count": 10,
     "metadata": {},
     "output_type": "execute_result"
    }
   ],
   "source": [
    "mcd.head(10)\n"
   ]
  },
  {
   "cell_type": "code",
   "execution_count": 11,
   "id": "e85235cf",
   "metadata": {},
   "outputs": [
    {
     "data": {
      "text/html": [
       "<div>\n",
       "<style scoped>\n",
       "    .dataframe tbody tr th:only-of-type {\n",
       "        vertical-align: middle;\n",
       "    }\n",
       "\n",
       "    .dataframe tbody tr th {\n",
       "        vertical-align: top;\n",
       "    }\n",
       "\n",
       "    .dataframe thead th {\n",
       "        text-align: right;\n",
       "    }\n",
       "</style>\n",
       "<table border=\"1\" class=\"dataframe\">\n",
       "  <thead>\n",
       "    <tr style=\"text-align: right;\">\n",
       "      <th></th>\n",
       "      <th>reviewer_id</th>\n",
       "      <th>store_name</th>\n",
       "      <th>category</th>\n",
       "      <th>store_address</th>\n",
       "      <th>latitude</th>\n",
       "      <th>longitude</th>\n",
       "      <th>rating_count</th>\n",
       "      <th>review_time</th>\n",
       "      <th>review</th>\n",
       "      <th>rating</th>\n",
       "    </tr>\n",
       "  </thead>\n",
       "  <tbody>\n",
       "    <tr>\n",
       "      <th>21097</th>\n",
       "      <td>21098</td>\n",
       "      <td>McDonald's</td>\n",
       "      <td>Fast food restaurant</td>\n",
       "      <td>2400 Alliance Gateway Fwy, Fort Worth, TX 7617...</td>\n",
       "      <td>32.958041</td>\n",
       "      <td>-97.307652</td>\n",
       "      <td>957</td>\n",
       "      <td>3 years ago</td>\n",
       "      <td>Neutral</td>\n",
       "      <td>3 stars</td>\n",
       "    </tr>\n",
       "    <tr>\n",
       "      <th>21395</th>\n",
       "      <td>21396</td>\n",
       "      <td>McDonald's</td>\n",
       "      <td>Fast food restaurant</td>\n",
       "      <td>By Mandalay Bay, 3999 S Las Vegas Blvd, Las Ve...</td>\n",
       "      <td>36.090244</td>\n",
       "      <td>-115.175822</td>\n",
       "      <td>2,365</td>\n",
       "      <td>a year ago</td>\n",
       "      <td>Service was good. Even got my burger med. Rare...</td>\n",
       "      <td>5 stars</td>\n",
       "    </tr>\n",
       "    <tr>\n",
       "      <th>11930</th>\n",
       "      <td>11931</td>\n",
       "      <td>McDonald's</td>\n",
       "      <td>Fast food restaurant</td>\n",
       "      <td>1044 US-11, Champlain, NY 12919, United States</td>\n",
       "      <td>44.981410</td>\n",
       "      <td>-73.459820</td>\n",
       "      <td>1,306</td>\n",
       "      <td>6 months ago</td>\n",
       "      <td>Food seems to be getting worse. Tables dirty. ...</td>\n",
       "      <td>1 star</td>\n",
       "    </tr>\n",
       "    <tr>\n",
       "      <th>29334</th>\n",
       "      <td>29335</td>\n",
       "      <td>McDonald's</td>\n",
       "      <td>Fast food restaurant</td>\n",
       "      <td>1415 E State Rd, Fern Park, FL 32730, United S...</td>\n",
       "      <td>28.655350</td>\n",
       "      <td>-81.342692</td>\n",
       "      <td>1,618</td>\n",
       "      <td>4 years ago</td>\n",
       "      <td>No</td>\n",
       "      <td>1 star</td>\n",
       "    </tr>\n",
       "    <tr>\n",
       "      <th>27222</th>\n",
       "      <td>27223</td>\n",
       "      <td>McDonald's</td>\n",
       "      <td>Fast food restaurant</td>\n",
       "      <td>10901 Riverside Dr, North Hollywood, CA 91602,...</td>\n",
       "      <td>34.152507</td>\n",
       "      <td>-118.367904</td>\n",
       "      <td>1,794</td>\n",
       "      <td>3 years ago</td>\n",
       "      <td>Great service</td>\n",
       "      <td>5 stars</td>\n",
       "    </tr>\n",
       "    <tr>\n",
       "      <th>19107</th>\n",
       "      <td>19108</td>\n",
       "      <td>McDonald's</td>\n",
       "      <td>Fast food restaurant</td>\n",
       "      <td>1100 N US Hwy 377, Roanoke, TX 76262, United S...</td>\n",
       "      <td>33.009318</td>\n",
       "      <td>-97.222925</td>\n",
       "      <td>998</td>\n",
       "      <td>2 years ago</td>\n",
       "      <td>Neutral</td>\n",
       "      <td>3 stars</td>\n",
       "    </tr>\n",
       "    <tr>\n",
       "      <th>7673</th>\n",
       "      <td>7674</td>\n",
       "      <td>McDonald's</td>\n",
       "      <td>Fast food restaurant</td>\n",
       "      <td>550 Lawrence Expy, Sunnyvale, CA 94086, United...</td>\n",
       "      <td>37.385495</td>\n",
       "      <td>-121.995421</td>\n",
       "      <td>1,562</td>\n",
       "      <td>6 months ago</td>\n",
       "      <td>Excellent</td>\n",
       "      <td>5 stars</td>\n",
       "    </tr>\n",
       "    <tr>\n",
       "      <th>24019</th>\n",
       "      <td>24020</td>\n",
       "      <td>McDonald's</td>\n",
       "      <td>Fast food restaurant</td>\n",
       "      <td>1415 E State Rd, Fern Park, FL 32730, United S...</td>\n",
       "      <td>28.655350</td>\n",
       "      <td>-81.342692</td>\n",
       "      <td>1,617</td>\n",
       "      <td>a year ago</td>\n",
       "      <td>Always good service</td>\n",
       "      <td>5 stars</td>\n",
       "    </tr>\n",
       "    <tr>\n",
       "      <th>23255</th>\n",
       "      <td>23256</td>\n",
       "      <td>McDonald's</td>\n",
       "      <td>Fast food restaurant</td>\n",
       "      <td>5725 W Irlo Bronson Memorial Hwy, Kissimmee, F...</td>\n",
       "      <td>28.333508</td>\n",
       "      <td>-81.513738</td>\n",
       "      <td>5,566</td>\n",
       "      <td>6 years ago</td>\n",
       "      <td>Right across the road from Seralago Hotel, thi...</td>\n",
       "      <td>4 stars</td>\n",
       "    </tr>\n",
       "    <tr>\n",
       "      <th>8272</th>\n",
       "      <td>8273</td>\n",
       "      <td>McDonald's</td>\n",
       "      <td>Fast food restaurant</td>\n",
       "      <td>11382 US-441, Orlando, FL 32837, United States</td>\n",
       "      <td>28.399986</td>\n",
       "      <td>-81.405103</td>\n",
       "      <td>1,861</td>\n",
       "      <td>4 years ago</td>\n",
       "      <td>I like this place and food.</td>\n",
       "      <td>4 stars</td>\n",
       "    </tr>\n",
       "  </tbody>\n",
       "</table>\n",
       "</div>"
      ],
      "text/plain": [
       "       reviewer_id  store_name              category  \\\n",
       "21097        21098  McDonald's  Fast food restaurant   \n",
       "21395        21396  McDonald's  Fast food restaurant   \n",
       "11930        11931  McDonald's  Fast food restaurant   \n",
       "29334        29335  McDonald's  Fast food restaurant   \n",
       "27222        27223  McDonald's  Fast food restaurant   \n",
       "19107        19108  McDonald's  Fast food restaurant   \n",
       "7673          7674  McDonald's  Fast food restaurant   \n",
       "24019        24020  McDonald's  Fast food restaurant   \n",
       "23255        23256  McDonald's  Fast food restaurant   \n",
       "8272          8273  McDonald's  Fast food restaurant   \n",
       "\n",
       "                                           store_address  latitude   \\\n",
       "21097  2400 Alliance Gateway Fwy, Fort Worth, TX 7617...  32.958041   \n",
       "21395  By Mandalay Bay, 3999 S Las Vegas Blvd, Las Ve...  36.090244   \n",
       "11930     1044 US-11, Champlain, NY 12919, United States  44.981410   \n",
       "29334  1415 E State Rd, Fern Park, FL 32730, United S...  28.655350   \n",
       "27222  10901 Riverside Dr, North Hollywood, CA 91602,...  34.152507   \n",
       "19107  1100 N US Hwy 377, Roanoke, TX 76262, United S...  33.009318   \n",
       "7673   550 Lawrence Expy, Sunnyvale, CA 94086, United...  37.385495   \n",
       "24019  1415 E State Rd, Fern Park, FL 32730, United S...  28.655350   \n",
       "23255  5725 W Irlo Bronson Memorial Hwy, Kissimmee, F...  28.333508   \n",
       "8272      11382 US-441, Orlando, FL 32837, United States  28.399986   \n",
       "\n",
       "        longitude rating_count   review_time  \\\n",
       "21097  -97.307652          957   3 years ago   \n",
       "21395 -115.175822        2,365    a year ago   \n",
       "11930  -73.459820        1,306  6 months ago   \n",
       "29334  -81.342692        1,618   4 years ago   \n",
       "27222 -118.367904        1,794   3 years ago   \n",
       "19107  -97.222925          998   2 years ago   \n",
       "7673  -121.995421        1,562  6 months ago   \n",
       "24019  -81.342692        1,617    a year ago   \n",
       "23255  -81.513738        5,566   6 years ago   \n",
       "8272   -81.405103        1,861   4 years ago   \n",
       "\n",
       "                                                  review   rating  \n",
       "21097                                            Neutral  3 stars  \n",
       "21395  Service was good. Even got my burger med. Rare...  5 stars  \n",
       "11930  Food seems to be getting worse. Tables dirty. ...   1 star  \n",
       "29334                                                 No   1 star  \n",
       "27222                                      Great service  5 stars  \n",
       "19107                                            Neutral  3 stars  \n",
       "7673                                          Excellent   5 stars  \n",
       "24019                                Always good service  5 stars  \n",
       "23255  Right across the road from Seralago Hotel, thi...  4 stars  \n",
       "8272                         I like this place and food.  4 stars  "
      ]
     },
     "execution_count": 11,
     "metadata": {},
     "output_type": "execute_result"
    }
   ],
   "source": [
    "mcd.sample(10)\n"
   ]
  },
  {
   "cell_type": "code",
   "execution_count": 12,
   "id": "113a6c10",
   "metadata": {},
   "outputs": [
    {
     "name": "stdout",
     "output_type": "stream",
     "text": [
      "<class 'pandas.core.frame.DataFrame'>\n",
      "RangeIndex: 33396 entries, 0 to 33395\n",
      "Data columns (total 10 columns):\n",
      " #   Column         Non-Null Count  Dtype  \n",
      "---  ------         --------------  -----  \n",
      " 0   reviewer_id    33396 non-null  int64  \n",
      " 1   store_name     33396 non-null  object \n",
      " 2   category       33396 non-null  object \n",
      " 3   store_address  33396 non-null  object \n",
      " 4   latitude       32736 non-null  float64\n",
      " 5   longitude      32736 non-null  float64\n",
      " 6   rating_count   33396 non-null  object \n",
      " 7   review_time    33396 non-null  object \n",
      " 8   review         33396 non-null  object \n",
      " 9   rating         33396 non-null  object \n",
      "dtypes: float64(2), int64(1), object(7)\n",
      "memory usage: 2.5+ MB\n"
     ]
    }
   ],
   "source": [
    "mcd.info()\n"
   ]
  },
  {
   "cell_type": "code",
   "execution_count": 21,
   "id": "7a6cd351",
   "metadata": {},
   "outputs": [
    {
     "name": "stderr",
     "output_type": "stream",
     "text": [
      "[nltk_data] Downloading package vader_lexicon to\n",
      "[nltk_data]     C:\\Users\\Admin\\AppData\\Roaming\\nltk_data...\n"
     ]
    },
    {
     "data": {
      "text/plain": [
       "True"
      ]
     },
     "execution_count": 21,
     "metadata": {},
     "output_type": "execute_result"
    }
   ],
   "source": [
    "import nltk\n",
    "nltk.download('vader_lexicon')"
   ]
  },
  {
   "cell_type": "code",
   "execution_count": 22,
   "id": "d080eefb",
   "metadata": {},
   "outputs": [],
   "source": [
    "sia = SentimentIntensityAnalyzer()\n"
   ]
  },
  {
   "cell_type": "code",
   "execution_count": 23,
   "id": "f3242a10",
   "metadata": {},
   "outputs": [],
   "source": [
    "# Performing sentiment analysis on each review\n",
    "sentiments = []\n",
    "for review in mcd['review']:\n",
    "    sentiment = sia.polarity_scores(review)\n",
    "    sentiments.append(sentiment)"
   ]
  },
  {
   "cell_type": "markdown",
   "id": "eafcfc1d",
   "metadata": {},
   "source": [
    "# Sentiment Classification:\n",
    "Based on the compound score, I classified the reviews into different sentiment categories. For instance, if the compound score was above a certain threshold (e.g., 0.5), I labeled the review as positive. Conversely, if the compound score was below another threshold (e.g., -0.5), I labeled it as negative. Reviews with compound scores within the intermediate range were considered neutral."
   ]
  },
  {
   "cell_type": "code",
   "execution_count": 24,
   "id": "8bf67408",
   "metadata": {},
   "outputs": [],
   "source": [
    "sentiment_labels = []\n",
    "for sentiment in sentiments:\n",
    "    compound_score = sentiment['compound']\n",
    "    if compound_score >= 0.05:\n",
    "        sentiment_labels.append('Positive')\n",
    "    elif compound_score <= -0.05:\n",
    "        sentiment_labels.append('Negative')\n",
    "    else:\n",
    "        sentiment_labels.append('Neutral')"
   ]
  },
  {
   "cell_type": "code",
   "execution_count": 25,
   "id": "cfb1c049",
   "metadata": {},
   "outputs": [],
   "source": [
    "# Add the sentiment labels to the DataFrame\n",
    "mcd['sentiment'] = sentiment_labels"
   ]
  },
  {
   "cell_type": "code",
   "execution_count": 26,
   "id": "c9b86f36",
   "metadata": {},
   "outputs": [
    {
     "data": {
      "text/html": [
       "<div>\n",
       "<style scoped>\n",
       "    .dataframe tbody tr th:only-of-type {\n",
       "        vertical-align: middle;\n",
       "    }\n",
       "\n",
       "    .dataframe tbody tr th {\n",
       "        vertical-align: top;\n",
       "    }\n",
       "\n",
       "    .dataframe thead th {\n",
       "        text-align: right;\n",
       "    }\n",
       "</style>\n",
       "<table border=\"1\" class=\"dataframe\">\n",
       "  <thead>\n",
       "    <tr style=\"text-align: right;\">\n",
       "      <th></th>\n",
       "      <th>review</th>\n",
       "      <th>sentiment</th>\n",
       "    </tr>\n",
       "  </thead>\n",
       "  <tbody>\n",
       "    <tr>\n",
       "      <th>0</th>\n",
       "      <td>Why does it look like someone spit on my food?...</td>\n",
       "      <td>Positive</td>\n",
       "    </tr>\n",
       "    <tr>\n",
       "      <th>1</th>\n",
       "      <td>It'd McDonalds. It is what it is as far as the...</td>\n",
       "      <td>Positive</td>\n",
       "    </tr>\n",
       "    <tr>\n",
       "      <th>2</th>\n",
       "      <td>Made a mobile order got to the speaker and che...</td>\n",
       "      <td>Negative</td>\n",
       "    </tr>\n",
       "    <tr>\n",
       "      <th>3</th>\n",
       "      <td>My mc. Crispy chicken sandwich was ï¿½ï¿½ï¿½ï¿...</td>\n",
       "      <td>Neutral</td>\n",
       "    </tr>\n",
       "    <tr>\n",
       "      <th>4</th>\n",
       "      <td>I repeat my order 3 times in the drive thru, a...</td>\n",
       "      <td>Negative</td>\n",
       "    </tr>\n",
       "    <tr>\n",
       "      <th>...</th>\n",
       "      <td>...</td>\n",
       "      <td>...</td>\n",
       "    </tr>\n",
       "    <tr>\n",
       "      <th>33391</th>\n",
       "      <td>They treated me very badly.</td>\n",
       "      <td>Negative</td>\n",
       "    </tr>\n",
       "    <tr>\n",
       "      <th>33392</th>\n",
       "      <td>The service is very good</td>\n",
       "      <td>Positive</td>\n",
       "    </tr>\n",
       "    <tr>\n",
       "      <th>33393</th>\n",
       "      <td>To remove hunger is enough</td>\n",
       "      <td>Negative</td>\n",
       "    </tr>\n",
       "    <tr>\n",
       "      <th>33394</th>\n",
       "      <td>It's good, but lately it has become very expen...</td>\n",
       "      <td>Positive</td>\n",
       "    </tr>\n",
       "    <tr>\n",
       "      <th>33395</th>\n",
       "      <td>they took good care of me</td>\n",
       "      <td>Positive</td>\n",
       "    </tr>\n",
       "  </tbody>\n",
       "</table>\n",
       "<p>33396 rows × 2 columns</p>\n",
       "</div>"
      ],
      "text/plain": [
       "                                                  review sentiment\n",
       "0      Why does it look like someone spit on my food?...  Positive\n",
       "1      It'd McDonalds. It is what it is as far as the...  Positive\n",
       "2      Made a mobile order got to the speaker and che...  Negative\n",
       "3      My mc. Crispy chicken sandwich was ï¿½ï¿½ï¿½ï¿...   Neutral\n",
       "4      I repeat my order 3 times in the drive thru, a...  Negative\n",
       "...                                                  ...       ...\n",
       "33391                        They treated me very badly.  Negative\n",
       "33392                           The service is very good  Positive\n",
       "33393                         To remove hunger is enough  Negative\n",
       "33394  It's good, but lately it has become very expen...  Positive\n",
       "33395                          they took good care of me  Positive\n",
       "\n",
       "[33396 rows x 2 columns]"
      ]
     },
     "execution_count": 26,
     "metadata": {},
     "output_type": "execute_result"
    }
   ],
   "source": [
    "mcd[['review', 'sentiment']]\n"
   ]
  },
  {
   "cell_type": "markdown",
   "id": "cb60a8d1",
   "metadata": {},
   "source": [
    "# Predicting Feedback"
   ]
  },
  {
   "cell_type": "code",
   "execution_count": 27,
   "id": "532b13f4",
   "metadata": {},
   "outputs": [],
   "source": [
    "X = mcd['review']\n",
    "y = mcd['sentiment']\n",
    "X_train, X_test, y_train, y_test = train_test_split(X, y, test_size=0.2, random_state=42)"
   ]
  },
  {
   "cell_type": "raw",
   "id": "58ae4a8e",
   "metadata": {},
   "source": [
    "#Vectorization :\n",
    "\n",
    "I applied vectorization techniques to convert the textual data into a numerical representation suitable for machine learning algorithms. This process involved transforming the reviews into a format that captures their features and patterns effectively.\n"
   ]
  },
  {
   "cell_type": "code",
   "execution_count": 28,
   "id": "08995fd8",
   "metadata": {},
   "outputs": [],
   "source": [
    "vectorizer = TfidfVectorizer()\n",
    "X_train_tfidf = vectorizer.fit_transform(X_train)\n",
    "X_test_tfidf = vectorizer.transform(X_test)"
   ]
  },
  {
   "cell_type": "code",
   "execution_count": 29,
   "id": "3f76f445",
   "metadata": {},
   "outputs": [],
   "source": [
    "from sklearn.model_selection import train_test_split\n",
    "from sklearn.metrics import accuracy_score\n"
   ]
  },
  {
   "cell_type": "code",
   "execution_count": 30,
   "id": "bc8791c4",
   "metadata": {},
   "outputs": [
    {
     "data": {
      "text/plain": [
       "MultinomialNB()"
      ]
     },
     "execution_count": 30,
     "metadata": {},
     "output_type": "execute_result"
    }
   ],
   "source": [
    "naive_bayes = MultinomialNB()\n",
    "naive_bayes.fit(X_train_tfidf, y_train)"
   ]
  },
  {
   "cell_type": "code",
   "execution_count": 31,
   "id": "bb4f97b6",
   "metadata": {},
   "outputs": [],
   "source": [
    "y_pred = naive_bayes.predict(X_test_tfidf)"
   ]
  },
  {
   "cell_type": "code",
   "execution_count": 32,
   "id": "127bf20d",
   "metadata": {},
   "outputs": [
    {
     "name": "stdout",
     "output_type": "stream",
     "text": [
      "Accuracy: 0.7537425149700598\n",
      "Classification Report:\n",
      "              precision    recall  f1-score   support\n",
      "\n",
      "    Negative       0.76      0.78      0.77      1937\n",
      "     Neutral       0.99      0.22      0.36      1244\n",
      "    Positive       0.74      0.93      0.82      3499\n",
      "\n",
      "    accuracy                           0.75      6680\n",
      "   macro avg       0.83      0.64      0.65      6680\n",
      "weighted avg       0.79      0.75      0.72      6680\n",
      "\n"
     ]
    }
   ],
   "source": [
    "accuracy = accuracy_score(y_test, y_pred)\n",
    "print(\"Accuracy:\", accuracy)\n",
    "print(\"Classification Report:\")\n",
    "print(classification_report(y_test, y_pred))"
   ]
  },
  {
   "cell_type": "code",
   "execution_count": 36,
   "id": "d0adf0cf",
   "metadata": {
    "scrolled": true
   },
   "outputs": [],
   "source": [
    "# Lets try with the SVM Model\n",
    "from sklearn.svm import SVC\n",
    "vectorizer = TfidfVectorizer()\n",
    "X_train_tfi = vectorizer.fit_transform(X_train)\n",
    "X_test_tfi = vectorizer.transform(X_test)"
   ]
  },
  {
   "cell_type": "code",
   "execution_count": 38,
   "id": "2fe5be20",
   "metadata": {},
   "outputs": [
    {
     "data": {
      "text/plain": [
       "SVC()"
      ]
     },
     "execution_count": 38,
     "metadata": {},
     "output_type": "execute_result"
    }
   ],
   "source": [
    "model = SVC()\n",
    "model.fit(X_train_tfi, y_train)"
   ]
  },
  {
   "cell_type": "code",
   "execution_count": 39,
   "id": "3959a302",
   "metadata": {},
   "outputs": [],
   "source": [
    "y_pred = model.predict(X_test_tfi)\n"
   ]
  },
  {
   "cell_type": "code",
   "execution_count": 40,
   "id": "f54be5be",
   "metadata": {},
   "outputs": [
    {
     "name": "stdout",
     "output_type": "stream",
     "text": [
      "Accuracy: 0.8868263473053892\n",
      "Classification Report:\n",
      "              precision    recall  f1-score   support\n",
      "\n",
      "    Negative       0.81      0.88      0.84      1937\n",
      "     Neutral       0.88      0.82      0.85      1244\n",
      "    Positive       0.93      0.91      0.92      3499\n",
      "\n",
      "    accuracy                           0.89      6680\n",
      "   macro avg       0.88      0.87      0.87      6680\n",
      "weighted avg       0.89      0.89      0.89      6680\n",
      "\n"
     ]
    }
   ],
   "source": [
    "accuracy = accuracy_score(y_test, y_pred)\n",
    "print(\"Accuracy:\", accuracy)\n",
    "print(\"Classification Report:\")\n",
    "print(classification_report(y_test, y_pred))"
   ]
  },
  {
   "cell_type": "code",
   "execution_count": null,
   "id": "88685612",
   "metadata": {},
   "outputs": [],
   "source": [
    "# so SVM Model give more accuracy to our results \n"
   ]
  },
  {
   "cell_type": "markdown",
   "id": "e2e9afc4",
   "metadata": {},
   "source": [
    "# Sentiment Prediction Function:\n",
    "To enhance usability, I created a function that takes a review as input and predicts its sentiment. This function utilizes the trained SVC model to analyze the input review's features and classify it as positive, negative, or neutral. The function provides the sentiment prediction as the output.\n"
   ]
  },
  {
   "cell_type": "code",
   "execution_count": 41,
   "id": "0a7e268d",
   "metadata": {},
   "outputs": [],
   "source": [
    "def predict_sentiment(review):\n",
    "    review_tfidf = vectorizer.transform([review])\n",
    "    sentiment = model.predict(review_tfidf)\n",
    "    return sentiment[0]\n"
   ]
  },
  {
   "cell_type": "markdown",
   "id": "675f26c2",
   "metadata": {},
   "source": [
    "# Sample testing\n"
   ]
  },
  {
   "cell_type": "code",
   "execution_count": 42,
   "id": "ba42ae7c",
   "metadata": {},
   "outputs": [
    {
     "name": "stdout",
     "output_type": "stream",
     "text": [
      "Predicted sentiment: Positive\n"
     ]
    }
   ],
   "source": [
    "new_review = \"Staff was very courteous and understood how to deal with customers very well\"\n",
    "predicted_sentiment = predict_sentiment(new_review)\n",
    "print(\"Predicted sentiment:\", predicted_sentiment)"
   ]
  },
  {
   "cell_type": "code",
   "execution_count": 43,
   "id": "c85ebcc1",
   "metadata": {},
   "outputs": [
    {
     "name": "stdout",
     "output_type": "stream",
     "text": [
      "Predicted sentiment: Positive\n"
     ]
    }
   ],
   "source": [
    "new_review=\"I have to say, I enjoyed every single bite of the meal in\"\n",
    "predicted_sentiment = predict_sentiment(new_review)\n",
    "print(\"Predicted sentiment:\", predicted_sentiment)"
   ]
  },
  {
   "cell_type": "code",
   "execution_count": 44,
   "id": "8cfb2119",
   "metadata": {},
   "outputs": [
    {
     "name": "stdout",
     "output_type": "stream",
     "text": [
      "Predicted sentiment: Negative\n"
     ]
    }
   ],
   "source": [
    "new_review=\"bad experience\"\n",
    "predicted_sentiment = predict_sentiment(new_review)\n",
    "print(\"Predicted sentiment:\", predicted_sentiment)"
   ]
  },
  {
   "cell_type": "code",
   "execution_count": null,
   "id": "0f496992",
   "metadata": {},
   "outputs": [],
   "source": []
  }
 ],
 "metadata": {
  "kernelspec": {
   "display_name": "Python 3 (ipykernel)",
   "language": "python",
   "name": "python3"
  },
  "language_info": {
   "codemirror_mode": {
    "name": "ipython",
    "version": 3
   },
   "file_extension": ".py",
   "mimetype": "text/x-python",
   "name": "python",
   "nbconvert_exporter": "python",
   "pygments_lexer": "ipython3",
   "version": "3.9.12"
  }
 },
 "nbformat": 4,
 "nbformat_minor": 5
}
